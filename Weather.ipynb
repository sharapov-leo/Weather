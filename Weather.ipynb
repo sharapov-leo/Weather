{
  "nbformat": 4,
  "nbformat_minor": 0,
  "metadata": {
    "colab": {
      "provenance": []
    },
    "kernelspec": {
      "name": "python3",
      "display_name": "Python 3"
    },
    "language_info": {
      "name": "python"
    }
  },
  "cells": [
    {
      "cell_type": "code",
      "execution_count": 2,
      "metadata": {
        "colab": {
          "base_uri": "https://localhost:8080/"
        },
        "id": "n5LhnUDOO9qC",
        "outputId": "4ba7ea54-1166-492d-e598-d1b841bbddf9"
      },
      "outputs": [
        {
          "output_type": "stream",
          "name": "stdout",
          "text": [
            "День 29 имеет минимальную разницу \"ощущаемой\" и фактической температуры ночью \n",
            "Разница температуры составляет 0.009999999999990905 градуса Цельсия\n",
            "Максимальная продолжительность светового дня равна 63158\n"
          ]
        }
      ],
      "source": [
        "import time\n",
        "import urllib.request, json\n",
        "from datetime import datetime\n",
        "\n",
        "d = 86400\n",
        "cur = int(time.time())\n",
        "times = [str(cur),str(cur-d),str(cur-2*d),str(cur-3*d),str(cur-4*d)]\n",
        "\n",
        "leftUrl = 'https://api.openweathermap.org/data/2.5/onecall/timemachine?lat=55.751244&lon=37.618423&dt='\n",
        "rightUrl = '&appid=74c18fa23ea833ecc9b8892b1bc6243c'\n",
        "minDiff = 10000000\n",
        "day = 0\n",
        "maxDiff = 0\n",
        "for i in range(5):\n",
        "    url = leftUrl + times[i] + rightUrl\n",
        "    with urllib.request.urlopen(url) as url:\n",
        "        data = json.loads(url.read().decode())\n",
        "        diff = abs(data['current']['temp'] - data['current']['feels_like'])\n",
        "        if minDiff > diff:\n",
        "                minDiff = diff\n",
        "                day = times[i]\n",
        "        for x in data['hourly']:\n",
        "            diff = abs(x['temp'] - x['feels_like'])\n",
        "            if minDiff > diff:\n",
        "                minDiff = diff\n",
        "                day = times[i]\n",
        "        sunDiff = abs(data['current']['sunrise']-data['current']['sunset'])\n",
        "        if maxDiff < sunDiff:\n",
        "            maxDiff = sunDiff\n",
        "print('День',datetime.fromtimestamp(int(day)).strftime('%d'), 'имеет минимальную разницу \"ощущаемой\" и фактической температуры ночью ')\n",
        "print('Разница температуры составляет', minDiff, 'градуса Цельсия')\n",
        "print('Максимальная продолжительность светового дня равна', maxDiff)"
      ]
    }
  ]
}